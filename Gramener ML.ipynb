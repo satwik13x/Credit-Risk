{
 "cells": [
  {
   "cell_type": "code",
   "execution_count": 14,
   "metadata": {},
   "outputs": [],
   "source": [
    "import numpy as np\n",
    "from matplotlib import pyplot as plt\n",
    "import pandas as pd\n",
    "import seaborn as sns"
   ]
  },
  {
   "cell_type": "code",
   "execution_count": 15,
   "metadata": {},
   "outputs": [
    {
     "name": "stdout",
     "output_type": "stream",
     "text": [
      "   Unnamed: 0  Age     Sex  Job Housing Saving accounts Checking account  \\\n",
      "0           0   67    male    2     own             NaN           little   \n",
      "1           1   22  female    2     own          little         moderate   \n",
      "2           2   49    male    1     own          little              NaN   \n",
      "3           3   45    male    2    free          little           little   \n",
      "4           4   53    male    2    free          little           little   \n",
      "\n",
      "   Credit amount  Duration              Purpose  \n",
      "0           1169         6             radio/TV  \n",
      "1           5951        48             radio/TV  \n",
      "2           2096        12            education  \n",
      "3           7882        42  furniture/equipment  \n",
      "4           4870        24                  car  \n",
      "Number of male entris:    690  in percent:  0.69\n",
      "Number of female entris:  310  in percent:  0.31\n"
     ]
    }
   ],
   "source": [
    "df = pd.read_csv('german_credit_data.csv')\n",
    "print(df.head())\n",
    "\n",
    "nmale = df[ df['Sex'] == 'male'].shape[0]\n",
    "nfmale = df[ df['Sex'] == 'female'].shape[0]\n",
    "\n",
    "print('Number of male entris:   ', nmale, ' in percent: ', float(nmale) / df.shape[0])\n",
    "print('Number of female entris: ', nfmale, ' in percent: ', float(nfmale) / df.shape[0])"
   ]
  },
  {
   "cell_type": "code",
   "execution_count": 17,
   "metadata": {},
   "outputs": [
    {
     "data": {
      "text/plain": [
       "Text(0.5, 0, 'Age')"
      ]
     },
     "execution_count": 17,
     "metadata": {},
     "output_type": "execute_result"
    },
    {
     "data": {
      "image/png": "[encoded data removed]",
      "text/plain": [
       "<Figure size 432x288 with 1 Axes>"
      ]
     },
     "metadata": {
      "needs_background": "light"
     },
     "output_type": "display_data"
    }
   ],
   "source": [
    "fig, ax = plt.subplots(nrows=1, ncols=1)\n",
    "\n",
    "count, division = np.histogram(df['Age'], bins=10)\n",
    "ax = sns.barplot(division[:-1], count, color=sns.color_palette(\"BuGn_d\", 10)[3],\n",
    "                 alpha=0.8, lw=2)\n",
    "ax.set_xlabel('Age')"
   ]
  },
  {
   "cell_type": "code",
   "execution_count": 23,
   "metadata": {},
   "outputs": [
    {
     "data": {
      "image/png": "[encoded data removed]",
      "text/plain": [
       "<Figure size 432x288 with 2 Axes>"
      ]
     },
     "metadata": {
      "needs_background": "light"
     },
     "output_type": "display_data"
    }
   ],
   "source": [
    "fig, ax = plt.subplots(nrows=1, ncols=2, sharey=True)\n",
    "\n",
    "mbucket = mdf[['Purpose', 'Sex']].groupby('Purpose').count()\n",
    "fbucket = fdf[['Purpose', 'Sex']].groupby('Purpose').count()\n",
    "\n",
    "ax[0].barh( range(len(mdf['Purpose'].unique())), mbucket['Sex'].tolist(), align='center', **mkw)\n",
    "ax[1].barh( range(len(fdf['Purpose'].unique())), fbucket['Sex'].tolist(), align='center', **fkw)\n",
    "\n",
    "ax[0].set_title('Male')\n",
    "ax[1].set_title('Female')\n",
    "\n",
    "ax[0].set(yticklabels=[\"\"] + mbucket['Sex'].index.tolist())\n",
    "ax[1].yaxis.tick_right()\n",
    "ax[0].invert_xaxis()\n",
    "ax[1].set_xlim(0,250)\n",
    "\n",
    "ax[0].set_ylabel('Purpose')\n",
    "ax[1].set_ylabel('Purpose')\n",
    "ax[1].yaxis.set_label_position(\"right\")\n",
    "plt.tight_layout(h_pad=2)\n"
   ]
  },
  {
   "cell_type": "code",
   "execution_count": null,
   "metadata": {},
   "outputs": [],
   "source": []
  }
 ],
 "metadata": {
  "kernelspec": {
   "display_name": "Python 3",
   "language": "python",
   "name": "python3"
  },
  "language_info": {
   "codemirror_mode": {
    "name": "ipython",
    "version": 3
   },
   "file_extension": ".py",
   "mimetype": "text/x-python",
   "name": "python",
   "nbconvert_exporter": "python",
   "pygments_lexer": "ipython3",
   "version": "3.7.0"
  }
 },
 "nbformat": 4,
 "nbformat_minor": 2
}
